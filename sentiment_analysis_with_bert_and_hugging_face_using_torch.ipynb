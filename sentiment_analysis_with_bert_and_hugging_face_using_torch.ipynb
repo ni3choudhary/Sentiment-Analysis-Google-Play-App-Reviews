{
  "cells": [
    {
      "cell_type": "code",
      "source": [
        "!pip install -qq transformers"
      ],
      "metadata": {
        "id": "_WBx0VYXpZD_"
      },
      "id": "_WBx0VYXpZD_",
      "execution_count": 1,
      "outputs": []
    },
    {
      "cell_type": "markdown",
      "id": "541c4f07",
      "metadata": {
        "id": "541c4f07"
      },
      "source": [
        "# Google Play App Sentiment Analysis "
      ]
    },
    {
      "cell_type": "markdown",
      "id": "c37a44e3",
      "metadata": {
        "id": "c37a44e3"
      },
      "source": [
        "### Importing Required Libraries"
      ]
    },
    {
      "cell_type": "code",
      "execution_count": 2,
      "id": "c54b6fdc",
      "metadata": {
        "id": "c54b6fdc"
      },
      "outputs": [],
      "source": [
        "import pandas as pd\n",
        "import numpy as np\n",
        "import matplotlib.pyplot as plt\n",
        "import seaborn as sns\n",
        "sns.set(style='whitegrid',font_scale=1.2)\n",
        "sns.set_palette(sns.color_palette(\"rocket\"))\n",
        "\n",
        "from sklearn.model_selection import train_test_split\n",
        "from sklearn.metrics import confusion_matrix, classification_report\n",
        "\n",
        "import transformers\n",
        "from transformers import BertModel, BertTokenizer, AdamW, get_linear_schedule_with_warmup\n",
        "import torch\n",
        "from torch import nn, optim\n",
        "from torch.utils.data import Dataset, DataLoader\n",
        "\n",
        "from collections import defaultdict\n",
        "\n",
        "# ignore the warnings\n",
        "import warnings\n",
        "warnings.filterwarnings('ignore')"
      ]
    },
    {
      "cell_type": "code",
      "execution_count": 3,
      "id": "9d62f5a6",
      "metadata": {
        "id": "9d62f5a6"
      },
      "outputs": [],
      "source": [
        "# Let's start by defining some key variables that will be used later on in the training/evaluation process\n",
        "RANDOM_SEED = 50\n",
        "BATCH_SIZE = 16 # Note that increasing the batch size reduces the training time significantly, but gives you lower accuracy.\n",
        "# Set seed for reproducibility.\n",
        "np.random.seed(RANDOM_SEED)\n",
        "torch.manual_seed(RANDOM_SEED)\n",
        "device = torch.device(\"cuda:0\" if torch.cuda.is_available() else \"cpu\")"
      ]
    },
    {
      "cell_type": "markdown",
      "id": "b20f6116",
      "metadata": {
        "id": "b20f6116"
      },
      "source": [
        "### Load the Dataset"
      ]
    },
    {
      "cell_type": "code",
      "execution_count": 4,
      "id": "94e84464",
      "metadata": {
        "colab": {
          "base_uri": "https://localhost:8080/",
          "height": 548
        },
        "id": "94e84464",
        "outputId": "ade890cc-11eb-4cde-a2cc-396c57104d27"
      },
      "outputs": [
        {
          "output_type": "execute_result",
          "data": {
            "text/plain": [
              "                                            reviewId        userName  \\\n",
              "0  gp:AOqpTOEM0mkgJV_hBK1VPUU-KKyUNTU7pSSnx6qu1G7...   Monalisa Tonz   \n",
              "1  gp:AOqpTOFdFptKpBFfPL33NCZG9vLWpORX0AxTa_cs0tA...  Parth Kamaliya   \n",
              "2  gp:AOqpTOHuSd6c3jOqy9w5oa8z9W_q159YLJVJ-B2oVTB...      sangwa lkr   \n",
              "3  gp:AOqpTOEyZqiWKGdfIEAxmlcwxfLpcU3gnYntieEfRFU...   Debasis Swain   \n",
              "4  gp:AOqpTOFZ48RwwQsGBLQv0WsE0AjjdHyQzdmfXQKD5PM...       053_Eshan   \n",
              "\n",
              "                                           userImage  \\\n",
              "0  https://play-lh.googleusercontent.com/a-/AOh14...   \n",
              "1  https://play-lh.googleusercontent.com/a-/AOh14...   \n",
              "2  https://play-lh.googleusercontent.com/a/AATXAJ...   \n",
              "3  https://play-lh.googleusercontent.com/a-/AOh14...   \n",
              "4  https://play-lh.googleusercontent.com/a-/AOh14...   \n",
              "\n",
              "                                             content  score  thumbsUpCount  \\\n",
              "0  Whenever there is bad weather or a power cut, ...      1           4944   \n",
              "1  Very irritating. Only advertisement, advertise...      1           7630   \n",
              "2  Useless updates. I can't even activate my upco...      1           9309   \n",
              "3  The app neither has a proper UI nor any of the...      1           7153   \n",
              "4  The app was running extremely fine and superb....      1           1348   \n",
              "\n",
              "  reviewCreatedVersion                   at  \\\n",
              "0               7.0.06  2022-04-23 11:13:17   \n",
              "1               7.0.04  2022-03-02 12:39:56   \n",
              "2               7.0.05  2022-03-29 20:46:44   \n",
              "3               7.0.03  2022-02-16 17:14:08   \n",
              "4                  NaN  2022-03-11 14:14:53   \n",
              "\n",
              "                                        replyContent            repliedAt  \\\n",
              "0  Hi, we desire to build your experience better ...  2022-04-24 18:11:04   \n",
              "1  Hi, we’ve got you covered. Please open MyJio a...  2022-03-03 18:49:54   \n",
              "2  Hi, let's look into this together. To connect ...  2022-03-29 22:15:52   \n",
              "3  Hi, let's look into this together. To connect ...  2022-02-16 19:54:10   \n",
              "4  Hi, we’ve got you covered. Please open MyJio a...  2022-03-11 16:33:15   \n",
              "\n",
              "       sortOrder          appId  \n",
              "0  most_relevant  com.jio.myjio  \n",
              "1  most_relevant  com.jio.myjio  \n",
              "2  most_relevant  com.jio.myjio  \n",
              "3  most_relevant  com.jio.myjio  \n",
              "4  most_relevant  com.jio.myjio  "
            ],
            "text/html": [
              "\n",
              "  <div id=\"df-5177db42-b102-424c-bdb3-e14824052dd2\">\n",
              "    <div class=\"colab-df-container\">\n",
              "      <div>\n",
              "<style scoped>\n",
              "    .dataframe tbody tr th:only-of-type {\n",
              "        vertical-align: middle;\n",
              "    }\n",
              "\n",
              "    .dataframe tbody tr th {\n",
              "        vertical-align: top;\n",
              "    }\n",
              "\n",
              "    .dataframe thead th {\n",
              "        text-align: right;\n",
              "    }\n",
              "</style>\n",
              "<table border=\"1\" class=\"dataframe\">\n",
              "  <thead>\n",
              "    <tr style=\"text-align: right;\">\n",
              "      <th></th>\n",
              "      <th>reviewId</th>\n",
              "      <th>userName</th>\n",
              "      <th>userImage</th>\n",
              "      <th>content</th>\n",
              "      <th>score</th>\n",
              "      <th>thumbsUpCount</th>\n",
              "      <th>reviewCreatedVersion</th>\n",
              "      <th>at</th>\n",
              "      <th>replyContent</th>\n",
              "      <th>repliedAt</th>\n",
              "      <th>sortOrder</th>\n",
              "      <th>appId</th>\n",
              "    </tr>\n",
              "  </thead>\n",
              "  <tbody>\n",
              "    <tr>\n",
              "      <th>0</th>\n",
              "      <td>gp:AOqpTOEM0mkgJV_hBK1VPUU-KKyUNTU7pSSnx6qu1G7...</td>\n",
              "      <td>Monalisa Tonz</td>\n",
              "      <td>https://play-lh.googleusercontent.com/a-/AOh14...</td>\n",
              "      <td>Whenever there is bad weather or a power cut, ...</td>\n",
              "      <td>1</td>\n",
              "      <td>4944</td>\n",
              "      <td>7.0.06</td>\n",
              "      <td>2022-04-23 11:13:17</td>\n",
              "      <td>Hi, we desire to build your experience better ...</td>\n",
              "      <td>2022-04-24 18:11:04</td>\n",
              "      <td>most_relevant</td>\n",
              "      <td>com.jio.myjio</td>\n",
              "    </tr>\n",
              "    <tr>\n",
              "      <th>1</th>\n",
              "      <td>gp:AOqpTOFdFptKpBFfPL33NCZG9vLWpORX0AxTa_cs0tA...</td>\n",
              "      <td>Parth Kamaliya</td>\n",
              "      <td>https://play-lh.googleusercontent.com/a-/AOh14...</td>\n",
              "      <td>Very irritating. Only advertisement, advertise...</td>\n",
              "      <td>1</td>\n",
              "      <td>7630</td>\n",
              "      <td>7.0.04</td>\n",
              "      <td>2022-03-02 12:39:56</td>\n",
              "      <td>Hi, we’ve got you covered. Please open MyJio a...</td>\n",
              "      <td>2022-03-03 18:49:54</td>\n",
              "      <td>most_relevant</td>\n",
              "      <td>com.jio.myjio</td>\n",
              "    </tr>\n",
              "    <tr>\n",
              "      <th>2</th>\n",
              "      <td>gp:AOqpTOHuSd6c3jOqy9w5oa8z9W_q159YLJVJ-B2oVTB...</td>\n",
              "      <td>sangwa lkr</td>\n",
              "      <td>https://play-lh.googleusercontent.com/a/AATXAJ...</td>\n",
              "      <td>Useless updates. I can't even activate my upco...</td>\n",
              "      <td>1</td>\n",
              "      <td>9309</td>\n",
              "      <td>7.0.05</td>\n",
              "      <td>2022-03-29 20:46:44</td>\n",
              "      <td>Hi, let's look into this together. To connect ...</td>\n",
              "      <td>2022-03-29 22:15:52</td>\n",
              "      <td>most_relevant</td>\n",
              "      <td>com.jio.myjio</td>\n",
              "    </tr>\n",
              "    <tr>\n",
              "      <th>3</th>\n",
              "      <td>gp:AOqpTOEyZqiWKGdfIEAxmlcwxfLpcU3gnYntieEfRFU...</td>\n",
              "      <td>Debasis Swain</td>\n",
              "      <td>https://play-lh.googleusercontent.com/a-/AOh14...</td>\n",
              "      <td>The app neither has a proper UI nor any of the...</td>\n",
              "      <td>1</td>\n",
              "      <td>7153</td>\n",
              "      <td>7.0.03</td>\n",
              "      <td>2022-02-16 17:14:08</td>\n",
              "      <td>Hi, let's look into this together. To connect ...</td>\n",
              "      <td>2022-02-16 19:54:10</td>\n",
              "      <td>most_relevant</td>\n",
              "      <td>com.jio.myjio</td>\n",
              "    </tr>\n",
              "    <tr>\n",
              "      <th>4</th>\n",
              "      <td>gp:AOqpTOFZ48RwwQsGBLQv0WsE0AjjdHyQzdmfXQKD5PM...</td>\n",
              "      <td>053_Eshan</td>\n",
              "      <td>https://play-lh.googleusercontent.com/a-/AOh14...</td>\n",
              "      <td>The app was running extremely fine and superb....</td>\n",
              "      <td>1</td>\n",
              "      <td>1348</td>\n",
              "      <td>NaN</td>\n",
              "      <td>2022-03-11 14:14:53</td>\n",
              "      <td>Hi, we’ve got you covered. Please open MyJio a...</td>\n",
              "      <td>2022-03-11 16:33:15</td>\n",
              "      <td>most_relevant</td>\n",
              "      <td>com.jio.myjio</td>\n",
              "    </tr>\n",
              "  </tbody>\n",
              "</table>\n",
              "</div>\n",
              "      <button class=\"colab-df-convert\" onclick=\"convertToInteractive('df-5177db42-b102-424c-bdb3-e14824052dd2')\"\n",
              "              title=\"Convert this dataframe to an interactive table.\"\n",
              "              style=\"display:none;\">\n",
              "        \n",
              "  <svg xmlns=\"http://www.w3.org/2000/svg\" height=\"24px\"viewBox=\"0 0 24 24\"\n",
              "       width=\"24px\">\n",
              "    <path d=\"M0 0h24v24H0V0z\" fill=\"none\"/>\n",
              "    <path d=\"M18.56 5.44l.94 2.06.94-2.06 2.06-.94-2.06-.94-.94-2.06-.94 2.06-2.06.94zm-11 1L8.5 8.5l.94-2.06 2.06-.94-2.06-.94L8.5 2.5l-.94 2.06-2.06.94zm10 10l.94 2.06.94-2.06 2.06-.94-2.06-.94-.94-2.06-.94 2.06-2.06.94z\"/><path d=\"M17.41 7.96l-1.37-1.37c-.4-.4-.92-.59-1.43-.59-.52 0-1.04.2-1.43.59L10.3 9.45l-7.72 7.72c-.78.78-.78 2.05 0 2.83L4 21.41c.39.39.9.59 1.41.59.51 0 1.02-.2 1.41-.59l7.78-7.78 2.81-2.81c.8-.78.8-2.07 0-2.86zM5.41 20L4 18.59l7.72-7.72 1.47 1.35L5.41 20z\"/>\n",
              "  </svg>\n",
              "      </button>\n",
              "      \n",
              "  <style>\n",
              "    .colab-df-container {\n",
              "      display:flex;\n",
              "      flex-wrap:wrap;\n",
              "      gap: 12px;\n",
              "    }\n",
              "\n",
              "    .colab-df-convert {\n",
              "      background-color: #E8F0FE;\n",
              "      border: none;\n",
              "      border-radius: 50%;\n",
              "      cursor: pointer;\n",
              "      display: none;\n",
              "      fill: #1967D2;\n",
              "      height: 32px;\n",
              "      padding: 0 0 0 0;\n",
              "      width: 32px;\n",
              "    }\n",
              "\n",
              "    .colab-df-convert:hover {\n",
              "      background-color: #E2EBFA;\n",
              "      box-shadow: 0px 1px 2px rgba(60, 64, 67, 0.3), 0px 1px 3px 1px rgba(60, 64, 67, 0.15);\n",
              "      fill: #174EA6;\n",
              "    }\n",
              "\n",
              "    [theme=dark] .colab-df-convert {\n",
              "      background-color: #3B4455;\n",
              "      fill: #D2E3FC;\n",
              "    }\n",
              "\n",
              "    [theme=dark] .colab-df-convert:hover {\n",
              "      background-color: #434B5C;\n",
              "      box-shadow: 0px 1px 3px 1px rgba(0, 0, 0, 0.15);\n",
              "      filter: drop-shadow(0px 1px 2px rgba(0, 0, 0, 0.3));\n",
              "      fill: #FFFFFF;\n",
              "    }\n",
              "  </style>\n",
              "\n",
              "      <script>\n",
              "        const buttonEl =\n",
              "          document.querySelector('#df-5177db42-b102-424c-bdb3-e14824052dd2 button.colab-df-convert');\n",
              "        buttonEl.style.display =\n",
              "          google.colab.kernel.accessAllowed ? 'block' : 'none';\n",
              "\n",
              "        async function convertToInteractive(key) {\n",
              "          const element = document.querySelector('#df-5177db42-b102-424c-bdb3-e14824052dd2');\n",
              "          const dataTable =\n",
              "            await google.colab.kernel.invokeFunction('convertToInteractive',\n",
              "                                                     [key], {});\n",
              "          if (!dataTable) return;\n",
              "\n",
              "          const docLinkHtml = 'Like what you see? Visit the ' +\n",
              "            '<a target=\"_blank\" href=https://colab.research.google.com/notebooks/data_table.ipynb>data table notebook</a>'\n",
              "            + ' to learn more about interactive tables.';\n",
              "          element.innerHTML = '';\n",
              "          dataTable['output_type'] = 'display_data';\n",
              "          await google.colab.output.renderOutput(dataTable, element);\n",
              "          const docLink = document.createElement('div');\n",
              "          docLink.innerHTML = docLinkHtml;\n",
              "          element.appendChild(docLink);\n",
              "        }\n",
              "      </script>\n",
              "    </div>\n",
              "  </div>\n",
              "  "
            ]
          },
          "metadata": {},
          "execution_count": 4
        }
      ],
      "source": [
        "df_reviews = pd.read_csv(\"./app_reviews.csv\")\n",
        "df_reviews.head()"
      ]
    },
    {
      "cell_type": "code",
      "execution_count": 5,
      "id": "30d5dd25",
      "metadata": {
        "id": "30d5dd25"
      },
      "outputs": [],
      "source": [
        "# drop review id \n",
        "df_reviews.drop('reviewId',axis=1,inplace=True)"
      ]
    },
    {
      "cell_type": "code",
      "execution_count": 6,
      "id": "b83da6f8",
      "metadata": {
        "colab": {
          "base_uri": "https://localhost:8080/"
        },
        "id": "b83da6f8",
        "outputId": "10bbccce-ebb9-4d61-8664-9cb284b887f6"
      },
      "outputs": [
        {
          "output_type": "execute_result",
          "data": {
            "text/plain": [
              "(15012, 11)"
            ]
          },
          "metadata": {},
          "execution_count": 6
        }
      ],
      "source": [
        "# lets check the shape of reviews dataframe\n",
        "df_reviews.shape"
      ]
    },
    {
      "cell_type": "markdown",
      "id": "2ac902e5",
      "metadata": {
        "id": "2ac902e5"
      },
      "source": [
        "We have about 15k examples. Let's check for missing values-"
      ]
    },
    {
      "cell_type": "code",
      "execution_count": 7,
      "id": "be36352f",
      "metadata": {
        "colab": {
          "base_uri": "https://localhost:8080/"
        },
        "id": "be36352f",
        "outputId": "8ed91c1d-302a-47d4-e097-71e5b9302124"
      },
      "outputs": [
        {
          "output_type": "execute_result",
          "data": {
            "text/plain": [
              "userName                    1\n",
              "userImage                   0\n",
              "content                     0\n",
              "score                       0\n",
              "thumbsUpCount               0\n",
              "reviewCreatedVersion     2341\n",
              "at                          0\n",
              "replyContent            10327\n",
              "repliedAt               10327\n",
              "sortOrder                   0\n",
              "appId                       0\n",
              "dtype: int64"
            ]
          },
          "metadata": {},
          "execution_count": 7
        }
      ],
      "source": [
        "df_reviews.isnull().sum()"
      ]
    },
    {
      "cell_type": "markdown",
      "id": "a4b2fe98",
      "metadata": {
        "id": "a4b2fe98"
      },
      "source": [
        "**Great, no missing values in the score and review texts! Do we have class imbalance?**"
      ]
    },
    {
      "cell_type": "code",
      "execution_count": 8,
      "id": "8d8f22dc",
      "metadata": {
        "id": "8d8f22dc"
      },
      "outputs": [],
      "source": [
        "# helper function to draw percentage above each bar\n",
        "def draw_percentage(ax,total=float(len(df_reviews))):\n",
        "    for p in ax.patches:\n",
        "        percentage = '{:.1f}%'.format(100 * p.get_height()/total)\n",
        "        x = p.get_x() + p.get_width() / 2.\n",
        "        y = p.get_height()\n",
        "        ax.annotate(percentage, (x, y),ha='center',va='bottom')"
      ]
    },
    {
      "cell_type": "code",
      "execution_count": 9,
      "id": "7db37873",
      "metadata": {
        "colab": {
          "base_uri": "https://localhost:8080/",
          "height": 419
        },
        "id": "7db37873",
        "outputId": "b70c1605-4afc-4ade-be8e-30a4a426887d"
      },
      "outputs": [
        {
          "output_type": "display_data",
          "data": {
            "text/plain": [
              "<Figure size 720x432 with 1 Axes>"
            ],
            "image/png": "[encoded data removed]"
          },
          "metadata": {}
        }
      ],
      "source": [
        "plt.figure(figsize = (10,6))\n",
        "total = float(len(df_reviews))\n",
        "ax = sns.countplot(x = 'score',data=df_reviews)\n",
        "plt.title('Count Plot of Review Score', fontsize=20)\n",
        "plt.xlabel('review score')\n",
        "draw_percentage(ax)\n",
        "plt.show()"
      ]
    },
    {
      "cell_type": "markdown",
      "id": "3f4836d8",
      "metadata": {
        "id": "3f4836d8"
      },
      "source": [
        "**That's hugely imbalanced, but it's okay. We're going to convert the dataset into negative, neutral and positive sentiment.**"
      ]
    },
    {
      "cell_type": "code",
      "execution_count": 10,
      "id": "b3f7bb9b",
      "metadata": {
        "id": "b3f7bb9b"
      },
      "outputs": [],
      "source": [
        "def to_sentiment(rating):\n",
        "    rating = int(rating)\n",
        "    if rating <= 2:\n",
        "        return 0\n",
        "    elif rating == 3:\n",
        "        return 1\n",
        "    else:\n",
        "        return 2\n",
        "    \n",
        "df_reviews['sentiment'] = df_reviews.score.apply(to_sentiment)"
      ]
    },
    {
      "cell_type": "code",
      "execution_count": 11,
      "id": "98336e65",
      "metadata": {
        "colab": {
          "base_uri": "https://localhost:8080/",
          "height": 419
        },
        "id": "98336e65",
        "outputId": "b2888cf0-6f6a-4cd0-97f0-d00029b307ca"
      },
      "outputs": [
        {
          "output_type": "display_data",
          "data": {
            "text/plain": [
              "<Figure size 576x432 with 1 Axes>"
            ],
            "image/png": "[encoded data removed]"
          },
          "metadata": {}
        }
      ],
      "source": [
        "plt.figure(figsize = (8,6))\n",
        "total = float(len(df_reviews))\n",
        "ax = sns.countplot(x = 'sentiment',data=df_reviews)\n",
        "\n",
        "\n",
        "class_names = ['negative', 'neutral', 'positive']\n",
        "ax.set_xticklabels(class_names)\n",
        "plt.title('Count Plot of Review Score', fontsize=20)\n",
        "plt.xlabel('review sentiment')\n",
        "draw_percentage(ax)\n",
        "\n",
        "plt.show()"
      ]
    },
    {
      "cell_type": "markdown",
      "id": "f2c6e5e2",
      "metadata": {
        "id": "f2c6e5e2"
      },
      "source": [
        "### Data Preprocessing"
      ]
    },
    {
      "cell_type": "code",
      "execution_count": 12,
      "id": "8256fd89",
      "metadata": {
        "id": "8256fd89"
      },
      "outputs": [],
      "source": [
        "# We can use a cased and uncased version of BERT and tokenizer. I am using cased version.\n",
        "PRE_TRAINED_MODEL_NAME = 'bert-base-cased'\n",
        "\n",
        "# Let's load a pre-trained BertTokenizer\n",
        "tokenizer = BertTokenizer.from_pretrained(PRE_TRAINED_MODEL_NAME)"
      ]
    },
    {
      "cell_type": "code",
      "execution_count": 13,
      "id": "ef93815d",
      "metadata": {
        "colab": {
          "base_uri": "https://localhost:8080/"
        },
        "id": "ef93815d",
        "outputId": "5f769c41-5071-482d-d29a-ac243b8892d3"
      },
      "outputs": [
        {
          "output_type": "stream",
          "name": "stdout",
          "text": [
            " Sentence: we love you\n",
            "   Tokens: ['we', 'love', 'you']\n",
            "Token IDs: [1195, 1567, 1128]\n"
          ]
        }
      ],
      "source": [
        "sample_txt = \"we love you\"\n",
        "\n",
        "tokens = tokenizer.tokenize(sample_txt)\n",
        "token_ids = tokenizer.convert_tokens_to_ids(tokens)\n",
        "\n",
        "print(f' Sentence: {sample_txt}')\n",
        "print(f'   Tokens: {tokens}')\n",
        "print(f'Token IDs: {token_ids}')"
      ]
    },
    {
      "cell_type": "code",
      "execution_count": 14,
      "id": "0f65f22b",
      "metadata": {
        "colab": {
          "base_uri": "https://localhost:8080/"
        },
        "id": "0f65f22b",
        "outputId": "d869973a-0536-4cb4-a26c-64612e346211"
      },
      "outputs": [
        {
          "output_type": "execute_result",
          "data": {
            "text/plain": [
              "dict_keys(['input_ids', 'attention_mask'])"
            ]
          },
          "metadata": {},
          "execution_count": 14
        }
      ],
      "source": [
        "# encoding of a sentence\n",
        "encoding = tokenizer.encode_plus(\n",
        "    sample_txt,\n",
        "    padding='max_length', # Pad sentence to max length\n",
        "    truncation=True,  #Truncate sentence to max length\n",
        "    max_length=32,\n",
        "    add_special_tokens=True, # Add '[CLS]' and '[SEP]'\n",
        "    return_token_type_ids=False,\n",
        "    return_attention_mask=True, # Return attention mask\n",
        "    return_tensors='pt',  # Return torch objects\n",
        "    )\n",
        "\n",
        "encoding.keys()"
      ]
    },
    {
      "cell_type": "markdown",
      "id": "990edb63",
      "metadata": {
        "id": "990edb63"
      },
      "source": [
        "The token ids are now stored in a tensorflow tensor and padded to a length of 32."
      ]
    },
    {
      "cell_type": "code",
      "execution_count": 15,
      "id": "6c6b1960",
      "metadata": {
        "colab": {
          "base_uri": "https://localhost:8080/"
        },
        "id": "6c6b1960",
        "outputId": "00b8e145-0238-4a6b-ed71-4e9a696dc3d1"
      },
      "outputs": [
        {
          "output_type": "stream",
          "name": "stdout",
          "text": [
            "32\n",
            "tensor([ 101, 1195, 1567, 1128,  102,    0,    0,    0,    0,    0,    0,    0,\n",
            "           0,    0,    0,    0,    0,    0,    0,    0,    0,    0,    0,    0,\n",
            "           0,    0,    0,    0,    0,    0,    0,    0])\n"
          ]
        }
      ],
      "source": [
        "print(len(encoding['input_ids'][0]))\n",
        "print(encoding['input_ids'][0])"
      ]
    },
    {
      "cell_type": "code",
      "execution_count": 16,
      "id": "b4da3391",
      "metadata": {
        "colab": {
          "base_uri": "https://localhost:8080/"
        },
        "id": "b4da3391",
        "outputId": "dc40843e-0dfa-4579-b4a9-78b885acadd8"
      },
      "outputs": [
        {
          "output_type": "stream",
          "name": "stdout",
          "text": [
            "32\n",
            "tensor([[1, 1, 1, 1, 1, 0, 0, 0, 0, 0, 0, 0, 0, 0, 0, 0, 0, 0, 0, 0, 0, 0, 0, 0,\n",
            "         0, 0, 0, 0, 0, 0, 0, 0]])\n"
          ]
        }
      ],
      "source": [
        "# The attention mask has the same length\n",
        "print(len(encoding['attention_mask'][0]))\n",
        "print(encoding['attention_mask'])"
      ]
    },
    {
      "cell_type": "code",
      "execution_count": 17,
      "id": "1f0ee926",
      "metadata": {
        "colab": {
          "base_uri": "https://localhost:8080/"
        },
        "id": "1f0ee926",
        "outputId": "ffe80549-586b-430d-8092-da59dc9c97c5"
      },
      "outputs": [
        {
          "output_type": "execute_result",
          "data": {
            "text/plain": [
              "['[CLS]',\n",
              " 'we',\n",
              " 'love',\n",
              " 'you',\n",
              " '[SEP]',\n",
              " '[PAD]',\n",
              " '[PAD]',\n",
              " '[PAD]',\n",
              " '[PAD]',\n",
              " '[PAD]',\n",
              " '[PAD]',\n",
              " '[PAD]',\n",
              " '[PAD]',\n",
              " '[PAD]',\n",
              " '[PAD]',\n",
              " '[PAD]',\n",
              " '[PAD]',\n",
              " '[PAD]',\n",
              " '[PAD]',\n",
              " '[PAD]',\n",
              " '[PAD]',\n",
              " '[PAD]',\n",
              " '[PAD]',\n",
              " '[PAD]',\n",
              " '[PAD]',\n",
              " '[PAD]',\n",
              " '[PAD]',\n",
              " '[PAD]',\n",
              " '[PAD]',\n",
              " '[PAD]',\n",
              " '[PAD]',\n",
              " '[PAD]']"
            ]
          },
          "metadata": {},
          "execution_count": 17
        }
      ],
      "source": [
        "# We can inverse the tokenization to have a look at the special tokens\n",
        "tokenizer.convert_ids_to_tokens(encoding['input_ids'][0])"
      ]
    },
    {
      "cell_type": "markdown",
      "id": "7b52a736",
      "metadata": {
        "id": "7b52a736"
      },
      "source": [
        "**Choosing Sequence Length**"
      ]
    },
    {
      "cell_type": "code",
      "execution_count": 18,
      "id": "8224788f",
      "metadata": {
        "id": "8224788f"
      },
      "outputs": [],
      "source": [
        "# BERT works with fixed-length sequences. We'll use a simple strategy to choose the max length.\n",
        "# Let's store the token length of each review..\n",
        "\n",
        "token_lens = []\n",
        "for text in df_reviews.content:\n",
        "    tokens = tokenizer.encode(text, truncation=True,max_length=512)\n",
        "    token_lens.append(len(tokens))"
      ]
    },
    {
      "cell_type": "code",
      "execution_count": 19,
      "id": "4280914a",
      "metadata": {
        "colab": {
          "base_uri": "https://localhost:8080/",
          "height": 398
        },
        "id": "4280914a",
        "outputId": "a90b4bc3-4d5f-4226-9bfb-231a226ae622"
      },
      "outputs": [
        {
          "output_type": "display_data",
          "data": {
            "text/plain": [
              "<Figure size 576x432 with 1 Axes>"
            ],
            "image/png": "[encoded data removed]"
          },
          "metadata": {}
        }
      ],
      "source": [
        "plt.figure(figsize = (8,6))\n",
        "sns.histplot(token_lens,kde=True)\n",
        "plt.xlim([0, 150])\n",
        "plt.xlabel('Token count')\n",
        "plt.show()"
      ]
    },
    {
      "cell_type": "markdown",
      "id": "2c302eda",
      "metadata": {
        "id": "2c302eda"
      },
      "source": [
        "Most of the reviews seem to contain less than 128 tokens, but we'll be on the safe side and choose a maximum length of 150."
      ]
    },
    {
      "cell_type": "code",
      "execution_count": 20,
      "id": "b78c4cd2",
      "metadata": {
        "id": "b78c4cd2"
      },
      "outputs": [],
      "source": [
        "MAX_LEN = 150"
      ]
    },
    {
      "cell_type": "markdown",
      "source": [
        "Now that our data is preprocessed, we can turn it into PyTorch tensors such that we can provide it to the model."
      ],
      "metadata": {
        "id": "SXXJfaNi98gv"
      },
      "id": "SXXJfaNi98gv"
    },
    {
      "cell_type": "code",
      "execution_count": 21,
      "id": "9ed4d8e2",
      "metadata": {
        "id": "9ed4d8e2"
      },
      "outputs": [],
      "source": [
        "# We have all building blocks required to create a torch dataset. Let's do it...\n",
        "class dataset(Dataset):\n",
        "    \n",
        "    def __init__(self, reviews, targets, tokenizer, max_len):\n",
        "        \n",
        "        self.reviews = reviews\n",
        "        self.targets = targets\n",
        "        self.tokenizer = tokenizer\n",
        "        self.max_len = max_len\n",
        "        \n",
        "    def __len__(self):\n",
        "        return len(self.reviews)\n",
        "    \n",
        "    def __getitem__(self, item):\n",
        "        # step 1: get the reviews and targets\n",
        "        review = str(self.reviews[item])\n",
        "        target = self.targets[item]\n",
        "        # step 2: use tokenizer to encode sentence (includes padding/truncation up to max length)\n",
        "        encoding = self.tokenizer.encode_plus(\n",
        "            review,\n",
        "            add_special_tokens=True, # Add '[CLS]' and '[SEP]'\n",
        "            padding='max_length',  # Pad sentence to max length\n",
        "            truncation=True,    # Truncate sentence to max length\n",
        "            max_length=self.max_len,\n",
        "            return_token_type_ids=False,\n",
        "            return_attention_mask=True, # Return attention mask\n",
        "            return_tensors='pt', # return torch objects/tensor\n",
        "        )\n",
        "        return {\n",
        "            'review_text': review,\n",
        "            'input_ids': encoding['input_ids'].flatten(),  # Tensor of token ids to be fed to a model\n",
        "            'attention_mask': encoding['attention_mask'].flatten(),  #Tensor of indices specifying which tokens should be attended to by the model\n",
        "            'targets': torch.tensor(target, dtype=torch.long)\n",
        "            }"
      ]
    },
    {
      "cell_type": "markdown",
      "id": "106442ff",
      "metadata": {
        "id": "106442ff"
      },
      "source": [
        "The tokenizer is doing most of the heavy lifting for us. We also return the review texts, so it'll be easier to evaluate the predictions from our model."
      ]
    },
    {
      "cell_type": "code",
      "execution_count": 22,
      "id": "5f0efd4f",
      "metadata": {
        "colab": {
          "base_uri": "https://localhost:8080/"
        },
        "id": "5f0efd4f",
        "outputId": "ac154aea-b6e8-4b04-874b-95be997f0b75"
      },
      "outputs": [
        {
          "output_type": "stream",
          "name": "stdout",
          "text": [
            "Train Data Size (13510, 12)\n",
            "Validation Data Size (751, 12)\n",
            "Test Data Size (751, 12)\n"
          ]
        }
      ],
      "source": [
        "# lets split the data\n",
        "df_train, df_test = train_test_split(df_reviews, test_size=0.1, random_state=RANDOM_SEED)\n",
        "df_val, df_test = train_test_split(df_test, test_size=0.5, random_state=RANDOM_SEED)\n",
        "\n",
        "print('Train Data Size', df_train.shape)\n",
        "print('Validation Data Size', df_val.shape)\n",
        "print('Test Data Size', df_test.shape)"
      ]
    },
    {
      "cell_type": "markdown",
      "id": "824d8ae6",
      "metadata": {
        "id": "824d8ae6"
      },
      "source": [
        "We also need to create a couple of data loaders. Here's a helper function to do it."
      ]
    },
    {
      "cell_type": "code",
      "execution_count": 23,
      "id": "fb85e348",
      "metadata": {
        "id": "fb85e348"
      },
      "outputs": [],
      "source": [
        "def create_data_loader(df, tokenizer, max_len, batch_size):\n",
        "    ds = dataset(\n",
        "        reviews=df.content.to_numpy(),\n",
        "        targets=df.sentiment.to_numpy(),\n",
        "        tokenizer=tokenizer,\n",
        "        max_len=max_len\n",
        "      )\n",
        "    return DataLoader(\n",
        "        ds,\n",
        "        batch_size=batch_size\n",
        "      )\n"
      ]
    },
    {
      "cell_type": "markdown",
      "source": [
        "Apply dataloader on train, validation and test data."
      ],
      "metadata": {
        "id": "dqwMW8_R270u"
      },
      "id": "dqwMW8_R270u"
    },
    {
      "cell_type": "code",
      "execution_count": 24,
      "id": "11692551",
      "metadata": {
        "id": "11692551"
      },
      "outputs": [],
      "source": [
        "train_data_loader = create_data_loader(df_train, tokenizer, MAX_LEN, BATCH_SIZE)\n",
        "val_data_loader = create_data_loader(df_val, tokenizer, MAX_LEN, BATCH_SIZE)\n",
        "test_data_loader = create_data_loader(df_test, tokenizer, MAX_LEN, BATCH_SIZE)"
      ]
    },
    {
      "cell_type": "markdown",
      "source": [
        "Let's have a look at an example batch from our training data loader"
      ],
      "metadata": {
        "id": "NLeFHaWC3Esr"
      },
      "id": "NLeFHaWC3Esr"
    },
    {
      "cell_type": "code",
      "execution_count": 25,
      "id": "c2b70d1e",
      "metadata": {
        "colab": {
          "base_uri": "https://localhost:8080/"
        },
        "id": "c2b70d1e",
        "outputId": "7578a4e3-63c4-42a1-9156-806a9b752559"
      },
      "outputs": [
        {
          "output_type": "execute_result",
          "data": {
            "text/plain": [
              "dict_keys(['review_text', 'input_ids', 'attention_mask', 'targets'])"
            ]
          },
          "metadata": {},
          "execution_count": 25
        }
      ],
      "source": [
        "data = next(iter(train_data_loader))\n",
        "data.keys()"
      ]
    },
    {
      "cell_type": "markdown",
      "source": [
        "### Model Building"
      ],
      "metadata": {
        "id": "FM8WH-nc45Su"
      },
      "id": "FM8WH-nc45Su"
    },
    {
      "cell_type": "markdown",
      "source": [
        "We'll use the basic BertModel and build our sentiment classifier on top of it. Let's load the model..."
      ],
      "metadata": {
        "id": "asMblnSR3W4C"
      },
      "id": "asMblnSR3W4C"
    },
    {
      "cell_type": "code",
      "execution_count": 26,
      "id": "df563fbe",
      "metadata": {
        "colab": {
          "base_uri": "https://localhost:8080/"
        },
        "id": "df563fbe",
        "outputId": "11640174-f5f2-422a-fdb4-62e7391bc07a"
      },
      "outputs": [
        {
          "output_type": "stream",
          "name": "stderr",
          "text": [
            "Some weights of the model checkpoint at bert-base-cased were not used when initializing BertModel: ['cls.seq_relationship.bias', 'cls.predictions.transform.dense.bias', 'cls.seq_relationship.weight', 'cls.predictions.transform.LayerNorm.bias', 'cls.predictions.transform.dense.weight', 'cls.predictions.transform.LayerNorm.weight', 'cls.predictions.decoder.weight', 'cls.predictions.bias']\n",
            "- This IS expected if you are initializing BertModel from the checkpoint of a model trained on another task or with another architecture (e.g. initializing a BertForSequenceClassification model from a BertForPreTraining model).\n",
            "- This IS NOT expected if you are initializing BertModel from the checkpoint of a model that you expect to be exactly identical (initializing a BertForSequenceClassification model from a BertForSequenceClassification model).\n"
          ]
        }
      ],
      "source": [
        "bert_model = BertModel.from_pretrained(PRE_TRAINED_MODEL_NAME,return_dict=False)"
      ]
    },
    {
      "cell_type": "markdown",
      "source": [
        "Note that warning occured because only the base layers are initialized with the pretrained weights. The token classification head of top has just randomly initialized weights, which we will train, together with the pretrained weights, using our labelled dataset."
      ],
      "metadata": {
        "id": "l4jx41-U7Z-m"
      },
      "id": "l4jx41-U7Z-m"
    },
    {
      "cell_type": "markdown",
      "source": [
        "Let's try to use it on the encoding of our sample text."
      ],
      "metadata": {
        "id": "vS8ktvbg3i8k"
      },
      "id": "vS8ktvbg3i8k"
    },
    {
      "cell_type": "code",
      "execution_count": 27,
      "id": "cc26871a",
      "metadata": {
        "colab": {
          "base_uri": "https://localhost:8080/"
        },
        "id": "cc26871a",
        "outputId": "09d0cd45-549c-4633-9c4e-06a72f1eabec"
      },
      "outputs": [
        {
          "output_type": "execute_result",
          "data": {
            "text/plain": [
              "torch.Size([1, 32, 768])"
            ]
          },
          "metadata": {},
          "execution_count": 27
        }
      ],
      "source": [
        "last_hidden_state, pooled_output = bert_model(\n",
        "  input_ids=encoding['input_ids'],\n",
        "  attention_mask=encoding['attention_mask']\n",
        ")\n",
        "# The last_hidden_state is a sequence of hidden states of the last layer of the model. \n",
        "# Obtaining the pooled_output is done by applying the BertPooler on last_hidden_state.\n",
        "last_hidden_state.shape"
      ]
    },
    {
      "cell_type": "markdown",
      "source": [
        "We have the hidden state for each of our 32 tokens (the length of our example sequence) and 768 is the number of hidden units in the feedforward-networks.We'll use all of this knowledge to create a classifier that uses the BERT model."
      ],
      "metadata": {
        "id": "L9d98mQG34Yv"
      },
      "id": "L9d98mQG34Yv"
    },
    {
      "cell_type": "code",
      "execution_count": 28,
      "id": "bec7f035",
      "metadata": {
        "id": "bec7f035"
      },
      "outputs": [],
      "source": [
        "class SentimentClassifier(nn.Module):\n",
        "    def __init__(self, n_classes):\n",
        "        super(SentimentClassifier, self).__init__()\n",
        "        self.bert = BertModel.from_pretrained(PRE_TRAINED_MODEL_NAME,return_dict=False)\n",
        "        # dropout layer for some regularization \n",
        "        self.drop = nn.Dropout(p=0.3)\n",
        "        # A fully-connected layer for our output\n",
        "        self.out = nn.Linear(self.bert.config.hidden_size, n_classes)\n",
        "    def forward(self, input_ids, attention_mask):\n",
        "        \"\"\"\n",
        "        Feed input to BERT and the classifier to compute logits.\n",
        "        @param    input_ids (torch.Tensor): an input tensor with shape (batch_size,\n",
        "                      max_length)\n",
        "        @param    attention_mask (torch.Tensor): a tensor that hold attention mask\n",
        "                      information with shape (batch_size, max_length)\n",
        "        @return   logits (torch.Tensor): an output tensor with shape (batch_size,\n",
        "                      num_labels)\n",
        "        \"\"\"\n",
        "        # Feed input to BERT\n",
        "        last_hidden_state,pooled_output = self.bert(\n",
        "        input_ids=input_ids,\n",
        "        attention_mask=attention_mask\n",
        "        )\n",
        "        output = self.drop(pooled_output)\n",
        "        return self.out(output)"
      ]
    },
    {
      "cell_type": "code",
      "execution_count": 29,
      "id": "7bd8150a",
      "metadata": {
        "colab": {
          "base_uri": "https://localhost:8080/"
        },
        "id": "7bd8150a",
        "outputId": "5e4b9865-2873-4702-f415-c82b02ed931e"
      },
      "outputs": [
        {
          "output_type": "stream",
          "name": "stderr",
          "text": [
            "Some weights of the model checkpoint at bert-base-cased were not used when initializing BertModel: ['cls.seq_relationship.bias', 'cls.predictions.transform.dense.bias', 'cls.seq_relationship.weight', 'cls.predictions.transform.LayerNorm.bias', 'cls.predictions.transform.dense.weight', 'cls.predictions.transform.LayerNorm.weight', 'cls.predictions.decoder.weight', 'cls.predictions.bias']\n",
            "- This IS expected if you are initializing BertModel from the checkpoint of a model trained on another task or with another architecture (e.g. initializing a BertForSequenceClassification model from a BertForPreTraining model).\n",
            "- This IS NOT expected if you are initializing BertModel from the checkpoint of a model that you expect to be exactly identical (initializing a BertForSequenceClassification model from a BertForSequenceClassification model).\n"
          ]
        }
      ],
      "source": [
        "# Let's create an instance and move it to the GPU.\n",
        "model = SentimentClassifier(len(class_names))\n",
        "model = model.to(device)"
      ]
    },
    {
      "cell_type": "code",
      "execution_count": 30,
      "id": "9b135e13",
      "metadata": {
        "colab": {
          "base_uri": "https://localhost:8080/"
        },
        "id": "9b135e13",
        "outputId": "2ec67a97-fa44-483d-e517-2ecc7d6b81bf"
      },
      "outputs": [
        {
          "output_type": "stream",
          "name": "stdout",
          "text": [
            "torch.Size([16, 150])\n",
            "torch.Size([16, 150])\n"
          ]
        }
      ],
      "source": [
        "# We'll move the example batch of our training data to the GPU\n",
        "input_ids = data['input_ids'].to(device)\n",
        "attention_mask = data['attention_mask'].to(device)\n",
        "print(input_ids.shape) # batch size x seq length\n",
        "print(attention_mask.shape) # batch size x seq length"
      ]
    },
    {
      "cell_type": "markdown",
      "source": [
        "### Model Training"
      ],
      "metadata": {
        "id": "hBnTCkt_4-nc"
      },
      "id": "hBnTCkt_4-nc"
    },
    {
      "cell_type": "code",
      "execution_count": 31,
      "id": "602505ab",
      "metadata": {
        "id": "602505ab"
      },
      "outputs": [],
      "source": [
        "EPOCHS = 10\n",
        "#  AdamW optimizer to correct weight decay\n",
        "optimizer = AdamW(model.parameters(), lr=2e-5, correct_bias=False)\n",
        "total_steps = len(train_data_loader) * EPOCHS\n",
        "#  We'll also use a linear scheduler with no warmup steps\n",
        "scheduler = get_linear_schedule_with_warmup(\n",
        "  optimizer,\n",
        "  num_warmup_steps=0,\n",
        "  num_training_steps=total_steps\n",
        ")\n",
        "# cross-entropy loss function\n",
        "loss_fn = nn.CrossEntropyLoss().to(device)"
      ]
    },
    {
      "cell_type": "markdown",
      "source": [
        "Let's continue with writing a helper function for training our model..."
      ],
      "metadata": {
        "id": "syZBej8r5wdB"
      },
      "id": "syZBej8r5wdB"
    },
    {
      "cell_type": "code",
      "execution_count": 32,
      "id": "883971fd",
      "metadata": {
        "id": "883971fd"
      },
      "outputs": [],
      "source": [
        "def train_epoch(model,data_loader,loss_fn,optimizer,device,scheduler,n_examples):\n",
        "    # put model in training mode\n",
        "    model = model.train()\n",
        "    # Create empty lists to store outputs\n",
        "    losses = []\n",
        "    correct_predictions = 0\n",
        "    for batch in data_loader:\n",
        "        # We'll move the example batch of our training data to the GPU\n",
        "        input_ids = batch[\"input_ids\"].to(device)\n",
        "        attention_mask = batch[\"attention_mask\"].to(device)\n",
        "        targets = batch[\"targets\"].to(device)\n",
        "\n",
        "        # Perform a forward pass. This will return logits.\n",
        "        outputs = model(\n",
        "              input_ids=input_ids,\n",
        "              attention_mask=attention_mask\n",
        "            )\n",
        "        # Get the predictions\n",
        "        _, preds = torch.max(outputs, dim=1)\n",
        "\n",
        "        # Compute loss and accumulate the loss values\n",
        "        loss = loss_fn(outputs, targets)\n",
        "        losses.append(loss.item())\n",
        "        # Calculate the accuracy rate\n",
        "        correct_predictions += torch.sum(preds == targets)\n",
        "        # backward pass - Perform a backward pass to calculate gradients\n",
        "        loss.backward()\n",
        "        # gradient clipping - Clip the norm of the gradients to 1.0 to prevent \"exploding gradients\"\n",
        "        nn.utils.clip_grad_norm_(model.parameters(), max_norm=1.0)\n",
        "        # Update parameters and the learning rate\n",
        "        optimizer.step()\n",
        "        scheduler.step()\n",
        "        # Zero out any previously calculated gradients\n",
        "        optimizer.zero_grad()\n",
        "    \n",
        "    return correct_predictions.double() / n_examples, np.mean(losses)  # Compute the average accuracy and loss over the training set."
      ]
    },
    {
      "cell_type": "markdown",
      "source": [
        "Let's write another one that helps us evaluate the model on a given data loader."
      ],
      "metadata": {
        "id": "0ole_Z4wHH27"
      },
      "id": "0ole_Z4wHH27"
    },
    {
      "cell_type": "code",
      "execution_count": 33,
      "id": "cfa1f483",
      "metadata": {
        "id": "cfa1f483"
      },
      "outputs": [],
      "source": [
        "def eval_model(model, data_loader, loss_fn, device, n_examples):\n",
        "    # put model in evaluation mode\n",
        "    model = model.eval()\n",
        "    # Create empty lists to store outputs\n",
        "    losses = []\n",
        "    correct_predictions = 0\n",
        "    with torch.no_grad():\n",
        "        for batch in data_loader:\n",
        "            # We'll move the example batch of our validation data to the GPU\n",
        "            input_ids = batch[\"input_ids\"].to(device)\n",
        "            attention_mask = batch[\"attention_mask\"].to(device)\n",
        "            targets = batch[\"targets\"].to(device) \n",
        "\n",
        "            # Perform a forward pass. This will return logits.\n",
        "            outputs = model(input_ids=input_ids,attention_mask=attention_mask)\n",
        "            # Get the predictions\n",
        "            _, preds = torch.max(outputs, dim=1) \n",
        "\n",
        "            # Compute loss and accumulate the loss values\n",
        "            loss = loss_fn(outputs, targets)\n",
        "            losses.append(loss.item())\n",
        "            # Calculate the accuracy rate\n",
        "            correct_predictions += torch.sum(preds == targets)\n",
        "            \n",
        "    return correct_predictions.double() / n_examples, np.mean(losses) # Compute the average accuracy and loss over the validation set."
      ]
    },
    {
      "cell_type": "markdown",
      "source": [
        "Using those two helper function, we can write our training loop. We'll also store the training history for future use..."
      ],
      "metadata": {
        "id": "wXINXzXQHOww"
      },
      "id": "wXINXzXQHOww"
    },
    {
      "cell_type": "code",
      "execution_count": 34,
      "id": "d8e63963",
      "metadata": {
        "colab": {
          "base_uri": "https://localhost:8080/"
        },
        "id": "d8e63963",
        "outputId": "9a21cd36-11ac-4260-b548-9317e9e616fb"
      },
      "outputs": [
        {
          "output_type": "stream",
          "name": "stdout",
          "text": [
            "Epoch 1/10\n",
            "----------------------------------------------------------------------------------------------------\n",
            "Train loss 0.9312695597755838 accuracy 0.5475943745373797\n",
            "Val loss   0.8569119648730501 accuracy 0.6005326231691079\n",
            "\n",
            "Epoch 2/10\n",
            "----------------------------------------------------------------------------------------------------\n",
            "Train loss 0.7638126626875273 accuracy 0.6537379718726869\n",
            "Val loss   0.8819903312845433 accuracy 0.6031957390146472\n",
            "\n",
            "Epoch 3/10\n",
            "----------------------------------------------------------------------------------------------------\n",
            "Train loss 0.5950920040790851 accuracy 0.7518134715025906\n",
            "Val loss   0.976082907712206 accuracy 0.6031957390146472\n",
            "\n",
            "Epoch 4/10\n",
            "----------------------------------------------------------------------------------------------------\n",
            "Train loss 0.47056192548493664 accuracy 0.8015544041450777\n",
            "Val loss   1.2443853914737701 accuracy 0.5992010652463382\n",
            "\n",
            "Epoch 5/10\n",
            "----------------------------------------------------------------------------------------------------\n",
            "Train loss 0.4019492774805021 accuracy 0.8324944485566247\n",
            "Val loss   1.2692323453882908 accuracy 0.6311584553928097\n",
            "\n",
            "Epoch 6/10\n",
            "----------------------------------------------------------------------------------------------------\n",
            "Train loss 0.3539731843584388 accuracy 0.8487786824574389\n",
            "Val loss   1.4047355100195458 accuracy 0.6245006657789615\n",
            "\n",
            "Epoch 7/10\n",
            "----------------------------------------------------------------------------------------------------\n",
            "Train loss 0.3213208028418425 accuracy 0.862102146558105\n",
            "Val loss   1.4935935944952863 accuracy 0.6378162450066578\n",
            "\n",
            "Epoch 8/10\n",
            "----------------------------------------------------------------------------------------------------\n",
            "Train loss 0.2944465812247456 accuracy 0.8709844559585492\n",
            "Val loss   1.637955736606679 accuracy 0.6245006657789615\n",
            "\n",
            "Epoch 9/10\n",
            "----------------------------------------------------------------------------------------------------\n",
            "Train loss 0.2705020426082309 accuracy 0.8777942264988897\n",
            "Val loss   1.7490074355551537 accuracy 0.6245006657789615\n",
            "\n",
            "Epoch 10/10\n",
            "----------------------------------------------------------------------------------------------------\n",
            "Train loss 0.2590330844455724 accuracy 0.8828275351591414\n",
            "Val loss   1.8266081118837316 accuracy 0.6218375499334221\n",
            "\n",
            "CPU times: user 1h 47min 45s, sys: 40min 31s, total: 2h 28min 17s\n",
            "Wall time: 2h 27min 48s\n"
          ]
        }
      ],
      "source": [
        "%%time\n",
        "history = defaultdict(list)\n",
        "best_accuracy = 0\n",
        "# Start training loop\n",
        "for epoch in range(EPOCHS):\n",
        "    print(f'Epoch {epoch + 1}/{EPOCHS}')\n",
        "    print('-' * 100)\n",
        "    # model training\n",
        "    train_acc, train_loss = train_epoch(model, train_data_loader, loss_fn, optimizer, device, scheduler, len(df_train))\n",
        "    print(f'Train loss {train_loss} accuracy {train_acc}')\n",
        "    # After the completion of each training epoch, measure the model's performance on our validation set.\n",
        "    val_acc, val_loss = eval_model(model, val_data_loader, loss_fn, device, len(df_val))\n",
        "    print(f'Val loss   {val_loss} accuracy {val_acc}')\n",
        "    print()\n",
        "    # append training accuracy,loss and validation accuracy and loss to the history variable\n",
        "    history['train_acc'].append(train_acc)\n",
        "    history['train_loss'].append(train_loss)\n",
        "    history['val_acc'].append(val_acc)\n",
        "    history['val_loss'].append(val_loss)\n",
        "    # save the best model based on below condition\n",
        "    if val_acc > best_accuracy:\n",
        "        torch.save(model.state_dict(), 'best_model_state.bin')\n",
        "        best_accuracy = val_acc"
      ]
    },
    {
      "cell_type": "markdown",
      "source": [
        "Note that we're storing the state of the best model, indicated by the highest validation accuracy.\n",
        "\n",
        "Whoo, this took some time! We can look at the training vs validation accuracy."
      ],
      "metadata": {
        "id": "eeuUQvA9Hhlh"
      },
      "id": "eeuUQvA9Hhlh"
    },
    {
      "cell_type": "code",
      "source": [
        "history_cpu_train_acc = [i.cpu() for i in history['train_acc']]\n",
        "history_cpu_val_acc = [i.cpu() for i in history['val_acc']]"
      ],
      "metadata": {
        "id": "SL2_yHq0cPE1"
      },
      "id": "SL2_yHq0cPE1",
      "execution_count": 35,
      "outputs": []
    },
    {
      "cell_type": "code",
      "source": [
        "plt.plot(history_cpu_train_acc, label='train accuracy')\n",
        "plt.plot(history_cpu_val_acc, label='validation accuracy')\n",
        "plt.title('Training history')\n",
        "plt.ylabel('Accuracy')\n",
        "plt.xlabel('Epoch')\n",
        "plt.legend()\n",
        "plt.ylim([0, 1])\n",
        "plt.show()"
      ],
      "metadata": {
        "colab": {
          "base_uri": "https://localhost:8080/",
          "height": 306
        },
        "id": "D-6ZPx3GHgad",
        "outputId": "70e63a55-663c-47d4-f384-90c76c2184b1"
      },
      "id": "D-6ZPx3GHgad",
      "execution_count": 36,
      "outputs": [
        {
          "output_type": "display_data",
          "data": {
            "text/plain": [
              "<Figure size 432x288 with 1 Axes>"
            ],
            "image/png": "[encoded data removed]"
          },
          "metadata": {}
        }
      ]
    },
    {
      "cell_type": "markdown",
      "source": [
        "The training accuracy starts to approach 90% after 10 epochs or so. You might try to fine-tune the parameters a bit more, but this will be good enough for us."
      ],
      "metadata": {
        "id": "fQYb-fYxHxU_"
      },
      "id": "fQYb-fYxHxU_"
    },
    {
      "cell_type": "markdown",
      "source": [
        "### Load Pretrained Model"
      ],
      "metadata": {
        "id": "fEdFT87BHaSU"
      },
      "id": "fEdFT87BHaSU"
    },
    {
      "cell_type": "code",
      "source": [
        "model = SentimentClassifier(len(class_names))\n",
        "model.load_state_dict(torch.load('best_model_state.bin'))\n",
        "model = model.to(device)"
      ],
      "metadata": {
        "colab": {
          "base_uri": "https://localhost:8080/"
        },
        "id": "DVVNyeU4Hdez",
        "outputId": "a418687b-cf77-460e-c2eb-36cd3a79d2a3"
      },
      "id": "DVVNyeU4Hdez",
      "execution_count": 37,
      "outputs": [
        {
          "output_type": "stream",
          "name": "stderr",
          "text": [
            "Some weights of the model checkpoint at bert-base-cased were not used when initializing BertModel: ['cls.seq_relationship.bias', 'cls.predictions.transform.dense.bias', 'cls.seq_relationship.weight', 'cls.predictions.transform.LayerNorm.bias', 'cls.predictions.transform.dense.weight', 'cls.predictions.transform.LayerNorm.weight', 'cls.predictions.decoder.weight', 'cls.predictions.bias']\n",
            "- This IS expected if you are initializing BertModel from the checkpoint of a model trained on another task or with another architecture (e.g. initializing a BertForSequenceClassification model from a BertForPreTraining model).\n",
            "- This IS NOT expected if you are initializing BertModel from the checkpoint of a model that you expect to be exactly identical (initializing a BertForSequenceClassification model from a BertForSequenceClassification model).\n"
          ]
        }
      ]
    },
    {
      "cell_type": "markdown",
      "source": [
        "### Model Evaluation"
      ],
      "metadata": {
        "id": "p6elowKmXG40"
      },
      "id": "p6elowKmXG40"
    },
    {
      "cell_type": "code",
      "source": [
        "test_acc, _ = eval_model(\n",
        "  model,\n",
        "  test_data_loader,\n",
        "  loss_fn,\n",
        "  device,\n",
        "  len(df_test)\n",
        ")\n",
        "test_acc.item()"
      ],
      "metadata": {
        "id": "pvDR9o7_YKEe",
        "colab": {
          "base_uri": "https://localhost:8080/"
        },
        "outputId": "b74894c3-ce5e-414d-e378-fd4718215248"
      },
      "id": "pvDR9o7_YKEe",
      "execution_count": 38,
      "outputs": [
        {
          "output_type": "execute_result",
          "data": {
            "text/plain": [
              "0.6338215712383489"
            ]
          },
          "metadata": {},
          "execution_count": 38
        }
      ]
    },
    {
      "cell_type": "markdown",
      "source": [
        "The accuracy is very low on the test set. Our model needs tuning.\n",
        "\n",
        "lets check the prediction, we'll define a helper function to get the predictions from our model."
      ],
      "metadata": {
        "id": "JkEzzRunXsA-"
      },
      "id": "JkEzzRunXsA-"
    },
    {
      "cell_type": "code",
      "source": [
        "def get_predictions(model, data_loader):\n",
        "  # put model in evaluation mode\n",
        "  model = model.eval()\n",
        "  # Create empty lists to store outputs\n",
        "  review_texts = []\n",
        "  predictions = []\n",
        "  prediction_probs = []\n",
        "  real_values = []\n",
        "\n",
        "  with torch.no_grad():\n",
        "    for batch in data_loader:\n",
        "      # We'll move the example batch of our test data to the GPU\n",
        "      texts = batch[\"review_text\"]\n",
        "      input_ids = batch[\"input_ids\"].to(device)\n",
        "      attention_mask = batch[\"attention_mask\"].to(device)\n",
        "      targets = batch[\"targets\"].to(device)\n",
        "      # Perform a forward pass. This will return logits.\n",
        "      outputs = model(\n",
        "        input_ids=input_ids,\n",
        "        attention_mask=attention_mask\n",
        "      )\n",
        "      # Get the predictions\n",
        "      _, preds = torch.max(outputs, dim=1)\n",
        "      review_texts.extend(texts)\n",
        "      predictions.extend(preds)\n",
        "      prediction_probs.extend(outputs)\n",
        "      real_values.extend(targets)\n",
        "  predictions = torch.stack(predictions).cpu()\n",
        "  prediction_probs = torch.stack(prediction_probs).cpu()\n",
        "  real_values = torch.stack(real_values).cpu()\n",
        "  return review_texts, predictions, prediction_probs, real_values"
      ],
      "metadata": {
        "id": "q2k8ZVQQXu5V"
      },
      "id": "q2k8ZVQQXu5V",
      "execution_count": 39,
      "outputs": []
    },
    {
      "cell_type": "markdown",
      "source": [
        "This is similar to the evaluation function, except that we're storing the text of the reviews and the predicted probabilities."
      ],
      "metadata": {
        "id": "pAGPLrYfZXt2"
      },
      "id": "pAGPLrYfZXt2"
    },
    {
      "cell_type": "code",
      "source": [
        "y_review_texts, y_pred, y_pred_probs, y_test = get_predictions(\n",
        "  model,\n",
        "  test_data_loader\n",
        ")"
      ],
      "metadata": {
        "id": "yoIgD22yZboP"
      },
      "id": "yoIgD22yZboP",
      "execution_count": 40,
      "outputs": []
    },
    {
      "cell_type": "markdown",
      "source": [
        "Let's have a look at the classification report."
      ],
      "metadata": {
        "id": "4huQEcW4Zg1E"
      },
      "id": "4huQEcW4Zg1E"
    },
    {
      "cell_type": "code",
      "source": [
        "print(classification_report(y_test, y_pred, target_names=class_names))"
      ],
      "metadata": {
        "colab": {
          "base_uri": "https://localhost:8080/"
        },
        "id": "LSXSi7kwZi0-",
        "outputId": "17a6261e-abe3-4e1b-b9d6-1ebdf5f4f7ea"
      },
      "id": "LSXSi7kwZi0-",
      "execution_count": 41,
      "outputs": [
        {
          "output_type": "stream",
          "name": "stdout",
          "text": [
            "              precision    recall  f1-score   support\n",
            "\n",
            "    negative       0.75      0.65      0.70       261\n",
            "     neutral       0.56      0.44      0.49       231\n",
            "    positive       0.60      0.79      0.68       259\n",
            "\n",
            "    accuracy                           0.63       751\n",
            "   macro avg       0.64      0.63      0.62       751\n",
            "weighted avg       0.64      0.63      0.63       751\n",
            "\n"
          ]
        }
      ]
    },
    {
      "cell_type": "markdown",
      "source": [
        "Looks like it is really hard to classify neutral (3 stars) reviews. And I can tell you from experience, looking at many reviews, those are hard to classify.\n",
        "\n",
        "We'll continue with the confusion matrix-"
      ],
      "metadata": {
        "id": "LZYNdZmQaL-a"
      },
      "id": "LZYNdZmQaL-a"
    },
    {
      "cell_type": "code",
      "source": [
        "def show_confusion_matrix(confusion_matrix):\n",
        "  hmap = sns.heatmap(confusion_matrix, annot=True, fmt=\"d\", cmap=\"plasma\")\n",
        "  hmap.yaxis.set_ticklabels(hmap.yaxis.get_ticklabels(), rotation=0, ha='right')\n",
        "  hmap.xaxis.set_ticklabels(hmap.xaxis.get_ticklabels(), rotation=30, ha='right')\n",
        "  plt.ylabel('True sentiment')\n",
        "  plt.xlabel('Predicted sentiment');\n",
        "cm = confusion_matrix(y_test, y_pred)\n",
        "df_cm = pd.DataFrame(cm, index=class_names, columns=class_names)\n",
        "show_confusion_matrix(df_cm)"
      ],
      "metadata": {
        "colab": {
          "base_uri": "https://localhost:8080/",
          "height": 316
        },
        "id": "-sxq20v6aRly",
        "outputId": "292c8313-dedd-4686-ae39-0373fe0d2ff3"
      },
      "id": "-sxq20v6aRly",
      "execution_count": 42,
      "outputs": [
        {
          "output_type": "display_data",
          "data": {
            "text/plain": [
              "<Figure size 432x288 with 2 Axes>"
            ],
            "image/png": "[encoded data removed]"
          },
          "metadata": {}
        }
      ]
    },
    {
      "cell_type": "markdown",
      "source": [
        "This confirms that our model is having difficulty classifying neutral reviews.\n",
        "\n",
        "That's a good overview of the performance of our model. But let's have a look at an example from our test data."
      ],
      "metadata": {
        "id": "_dQ6lHVmasmY"
      },
      "id": "_dQ6lHVmasmY"
    },
    {
      "cell_type": "code",
      "source": [
        "idx = 50\n",
        "review_text = y_review_texts[idx]\n",
        "true_sentiment = y_test[idx]\n",
        "pred_df = pd.DataFrame({\n",
        "  'class_names': class_names,\n",
        "  'values': y_pred_probs[idx]\n",
        "})\n",
        "\n",
        "from textwrap import wrap \n",
        "print(\"\\n\".join(wrap(review_text)))\n",
        "print()\n",
        "print(f'True sentiment: {class_names[true_sentiment]}')"
      ],
      "metadata": {
        "colab": {
          "base_uri": "https://localhost:8080/"
        },
        "id": "7qJyPRr9a18P",
        "outputId": "3a9c094d-38cb-4368-9e7c-00f5162c9370"
      },
      "id": "7qJyPRr9a18P",
      "execution_count": 43,
      "outputs": [
        {
          "output_type": "stream",
          "name": "stdout",
          "text": [
            "The camera doesn't even show a preview to begin with... How am I\n",
            "supposed to scan a document when i can't even see it's image on my\n",
            "mobile screen?!?\n",
            "\n",
            "True sentiment: negative\n"
          ]
        }
      ]
    },
    {
      "cell_type": "markdown",
      "source": [
        "Now, we can look at the confidence of each sentiment of our mode."
      ],
      "metadata": {
        "id": "BmeUtlfGbtut"
      },
      "id": "BmeUtlfGbtut"
    },
    {
      "cell_type": "code",
      "source": [
        "sns.barplot(x='values', y='class_names', data=pred_df, orient='h')\n",
        "plt.ylabel('sentiment')\n",
        "plt.xlabel('probability')\n",
        "plt.xlim([0, 1])\n",
        "plt.show()"
      ],
      "metadata": {
        "colab": {
          "base_uri": "https://localhost:8080/",
          "height": 289
        },
        "id": "vbdSnCOQbwnQ",
        "outputId": "b4ccc219-2f83-4356-e3f6-aad1acb5a62c"
      },
      "id": "vbdSnCOQbwnQ",
      "execution_count": 44,
      "outputs": [
        {
          "output_type": "display_data",
          "data": {
            "text/plain": [
              "<Figure size 432x288 with 1 Axes>"
            ],
            "image/png": "[encoded data removed]"
          },
          "metadata": {}
        }
      ]
    },
    {
      "cell_type": "markdown",
      "source": [
        "### Prediction on Raw Text"
      ],
      "metadata": {
        "id": "Mg0UYcxEb4Tw"
      },
      "id": "Mg0UYcxEb4Tw"
    },
    {
      "cell_type": "code",
      "source": [
        "# Let's use our model to predict the sentiment of some raw text\n",
        "raw_text = \"It is very useful for seening plans for recharging jio. We can recharge plans easily by using this my jio app.\"\n"
      ],
      "metadata": {
        "id": "197dixleb7BS"
      },
      "id": "197dixleb7BS",
      "execution_count": 45,
      "outputs": []
    },
    {
      "cell_type": "code",
      "source": [
        "def prediction_on_raw_data(raw_text):\n",
        "  encoded_review = tokenizer.encode_plus(\n",
        "  raw_text,\n",
        "  padding='max_length', # Pad sentence to max length\n",
        "  truncation=True,  #Truncate sentence to max length\n",
        "  max_length=32,\n",
        "  add_special_tokens=True, # Add '[CLS]' and '[SEP]'\n",
        "  return_token_type_ids=False,\n",
        "  return_attention_mask=True, # Return attention mask\n",
        "  return_tensors='pt',  # Return torch objects\n",
        "  )\n",
        "\n",
        "  input_ids = encoded_review['input_ids'].to(device)\n",
        "  attention_mask = encoded_review['attention_mask'].to(device)\n",
        "  output = model(input_ids, attention_mask)\n",
        "\n",
        "  _, prediction = torch.max(output, dim=1)\n",
        "  \n",
        "  print(f'Review text: {raw_text}')\n",
        "  print(f'Sentiment  : {class_names[prediction]}')\n",
        "\n"
      ],
      "metadata": {
        "id": "D_UyY53hdcPN"
      },
      "id": "D_UyY53hdcPN",
      "execution_count": 46,
      "outputs": []
    },
    {
      "cell_type": "code",
      "source": [
        "prediction_on_raw_data(raw_text)"
      ],
      "metadata": {
        "colab": {
          "base_uri": "https://localhost:8080/"
        },
        "id": "CxJQZ2ZGeC5v",
        "outputId": "5e848f91-a5b4-4e69-bd49-0f4a6732c0d8"
      },
      "id": "CxJQZ2ZGeC5v",
      "execution_count": 47,
      "outputs": [
        {
          "output_type": "stream",
          "name": "stdout",
          "text": [
            "Review text: It is very useful for seening plans for recharging jio. We can recharge plans easily by using this my jio app.\n",
            "Sentiment  : positive\n"
          ]
        }
      ]
    },
    {
      "cell_type": "code",
      "source": [
        "raw_text = \"MyJio app is not working properly in my phone. This app respond very slowly. It also doesn't show my data usages accurately. It takes a lot of time to open the app.\"\n",
        "prediction_on_raw_data(raw_text)\n"
      ],
      "metadata": {
        "colab": {
          "base_uri": "https://localhost:8080/"
        },
        "id": "JINMdYXXw1Bc",
        "outputId": "6594819c-7445-4f0e-d28a-bd4f85c7ac18"
      },
      "id": "JINMdYXXw1Bc",
      "execution_count": 48,
      "outputs": [
        {
          "output_type": "stream",
          "name": "stdout",
          "text": [
            "Review text: MyJio app is not working properly in my phone. This app respond very slowly. It also doesn't show my data usages accurately. It takes a lot of time to open the app.\n",
            "Sentiment  : negative\n"
          ]
        }
      ]
    },
    {
      "cell_type": "code",
      "source": [
        ""
      ],
      "metadata": {
        "id": "_b078p_VxESj"
      },
      "id": "_b078p_VxESj",
      "execution_count": null,
      "outputs": []
    }
  ],
  "metadata": {
    "kernelspec": {
      "display_name": "Python 3",
      "name": "python3"
    },
    "language_info": {
      "name": "python"
    },
    "colab": {
      "name": "sentiment-analysis-with-bert-and-hugging-face-using-torch.ipynb",
      "provenance": [],
      "collapsed_sections": []
    },
    "accelerator": "GPU"
  },
  "nbformat": 4,
  "nbformat_minor": 5
}